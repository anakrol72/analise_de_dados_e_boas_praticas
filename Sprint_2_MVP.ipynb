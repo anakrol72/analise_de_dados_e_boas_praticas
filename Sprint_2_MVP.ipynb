{
  "nbformat": 4,
  "nbformat_minor": 0,
  "metadata": {
    "colab": {
      "provenance": [],
      "authorship_tag": "ABX9TyP4FduytrK2x90UOuzwKbE/",
      "include_colab_link": true
    },
    "kernelspec": {
      "name": "python3",
      "display_name": "Python 3"
    },
    "language_info": {
      "name": "python"
    }
  },
  "cells": [
    {
      "cell_type": "markdown",
      "metadata": {
        "id": "view-in-github",
        "colab_type": "text"
      },
      "source": [
        "<a href=\"https://colab.research.google.com/github/anakrol72/analise_de_dados_e_boas_praticas/blob/main/Sprint_2_MVP.ipynb\" target=\"_parent\"><img src=\"https://colab.research.google.com/assets/colab-badge.svg\" alt=\"Open In Colab\"/></a>"
      ]
    },
    {
      "cell_type": "markdown",
      "source": [
        "# O que fazer?\n",
        "\n",
        "*   ver como importar o dataset\n",
        "*   Objetivo: ver como o q é\n",
        "*   fazer revisão dos pontos do checklis\n",
        "    - estão na ordem de processamentos de dados da figura?\n",
        "\n",
        "\n",
        "\n",
        "\n",
        "\n"
      ],
      "metadata": {
        "id": "Qm6g9tv4YF1w"
      }
    },
    {
      "cell_type": "markdown",
      "source": [
        "## **Checklist sugerida - modificar**"
      ],
      "metadata": {
        "id": "qZFxRB2tbR03"
      }
    },
    {
      "cell_type": "markdown",
      "source": [
        "#  **Definição do problema**\n",
        "\n",
        "*Objetivo: entender e descrever claramente o problema que está sendo resolvido.*\n",
        "\n",
        "Qual é a descrição do problema?\n",
        "\n",
        "*   Este é um problema de aprendizado supervisionado ou não supervisionado?\n",
        "*   Que premissas ou hipóteses você tem sobre o problema?\n",
        "*   Que restrições ou condições foram impostas para selecionar os dados?\n",
        "*   Defina cada um dos atributos do dataset.\n",
        "\n",
        "\n",
        "\n",
        "\n",
        "\n"
      ],
      "metadata": {
        "id": "oJ6vrOeqYJgj"
      }
    },
    {
      "cell_type": "markdown",
      "source": [
        "# **Analisando o engajamento do instagram**\n",
        "\n",
        "*O objetivo é investigar qual conteúdo mais engaja no instagram.*\n",
        "\n",
        "Engajamento, no Marketing Digital, ocorre quando um usuário realiza ativamente uma ação com um conteúdo em uma rede social. Essa ação pode ser um clique, um comentário e até uma curtida, entre outras. Em geral, é metrificado em relação ao alcance do post ou ao número de seguidores, em uma taxa de engajamento.\n",
        "\n",
        "* Este é um problema de aprendizado supervisionado ou não supervisionado?\n",
        "\n",
        "* Como calcular o engajamento?"
      ],
      "metadata": {
        "id": "uIwuS_ahAlJA"
      }
    },
    {
      "cell_type": "markdown",
      "source": [
        "# **Análise de dados**\n",
        "\n",
        "*Objetivo: entender a informação disponível.*\n",
        "\n",
        "Estatísticas descritivas:\n",
        "\n",
        "\n",
        "*   Quantos atributos e instâncias existem?\n",
        "*   Quais são os tipos de dados dos atributos?\n",
        "*   Verifique as primeiras linhas do dataset. Algo chama a atenção?\n",
        "*   Há valores faltantes, discrepantes ou inconsistentes?\n",
        "*   Faça um resumo estatístico dos atributos com valor numérico (mínimo, máximo, mediana, moda, média, desvio-padrão e número de valores ausentes). O que você percebe?\n",
        "\n",
        "Visualizações:\n",
        "\n",
        "*  Verifique a distribuição de cada atributo. O que você percebe? Dica: esta etapa pode dar ideias sobre a necessidade de transformações na etapa de preparação de dados (por exemplo, converter atributos de um tipo para outro, realizar operações de discretização, normalização, padronização, etc.).\n",
        "* Se for um problema de classificação, verifique a distribuição de frequência das classes. O que você percebe? Dica: esta etapa pode indicar a possível necessidade futura de balanceamento de classes.\n",
        "Analise os atributos individualmente ou de forma combinada, usando os gráficos mais apropriados.\n",
        "\n",
        "\n",
        "\n"
      ],
      "metadata": {
        "id": "ZLjx97DXXtHq"
      }
    },
    {
      "cell_type": "markdown",
      "source": [
        "# **Pré-processamento de dados**\n",
        "\n",
        "*Objetivo: realizar operações de limpeza, tratamento e preparação dos dados.*\n",
        "\n",
        "* Verifique quais operações de pré-processamento podem ser interessantes para o seu problema e salve visões diferentes do seu dataset (por exemplo, normalização, padronização, discretização e one-hot-encoding).\n",
        "* Trate (removendo ou substituindo) os valores faltantes (se existentes).\n",
        "* Realize outras transformações de dados porventura necessárias.\n",
        "* Explique, passo a passo, as operações realizadas, justificando cada uma delas.\n",
        "* Se julgar necessário, utilizando os dados pré-processados, volte na etapa de análise exploratória e verifique se surge algum insight diferente após as operações realizadas."
      ],
      "metadata": {
        "id": "naP1aWyjbKbU"
      }
    },
    {
      "cell_type": "markdown",
      "source": [],
      "metadata": {
        "id": "G-EBEiTsb55M"
      }
    }
  ]
}